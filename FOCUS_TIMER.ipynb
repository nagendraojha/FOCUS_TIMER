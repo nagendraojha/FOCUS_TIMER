{
 "cells": [
  {
   "cell_type": "code",
   "execution_count": 7,
   "id": "f659c0de-65b6-4ab8-9859-242956e63623",
   "metadata": {},
   "outputs": [
    {
     "name": "stdout",
     "output_type": "stream",
     "text": [
      "Collecting plyer\n",
      "  Downloading plyer-2.1.0-py2.py3-none-any.whl.metadata (61 kB)\n",
      "Downloading plyer-2.1.0-py2.py3-none-any.whl (142 kB)\n",
      "Installing collected packages: plyer\n",
      "Successfully installed plyer-2.1.0\n",
      "Note: you may need to restart the kernel to use updated packages.\n"
     ]
    }
   ],
   "source": [
    "# pip install plyer"
   ]
  },
  {
   "cell_type": "code",
   "execution_count": null,
   "id": "11e54f8b-827e-4aa4-843f-3b32478caa20",
   "metadata": {},
   "outputs": [],
   "source": []
  },
  {
   "cell_type": "code",
   "execution_count": 1,
   "id": "9acc844f-c794-4ed7-b084-aaec33decb2d",
   "metadata": {},
   "outputs": [],
   "source": [
    "import tkinter as tk\n",
    "from tkinter import ttk\n",
    "from math import pi, cos, sin\n",
    "from plyer import notification\n",
    "\n",
    "class CircularTimer:\n",
    "    def __init__(self, root):\n",
    "        self.root = root\n",
    "        self.root.title(\"Circular Countdown Timer\")\n",
    "        self.root.geometry(\"400x500\")\n",
    "        self.root.resizable(False, False)\n",
    "        self.root.configure(bg=\"#1e1e2f\")\n",
    "\n",
    "        self.minutes = tk.IntVar()\n",
    "        self.time_left = 0\n",
    "        self.running = False\n",
    "\n",
    "        self.create_widgets()\n",
    "\n",
    "    def create_widgets(self):\n",
    "        tk.Label(self.root, text=\"Enter Minutes\", font=(\"Helvetica\", 14), bg=\"#1e1e2f\", fg=\"white\").pack(pady=10)\n",
    "        self.entry = tk.Entry(self.root, textvariable=self.minutes, font=(\"Helvetica\", 16), width=5, justify=\"center\")\n",
    "        self.entry.pack(pady=5)\n",
    "\n",
    "        self.canvas = tk.Canvas(self.root, width=300, height=300, bg=\"#1e1e2f\", highlightthickness=0)\n",
    "        self.canvas.pack()\n",
    "\n",
    "        self.timer_text = self.canvas.create_text(150, 150, text=\"00:00\", fill=\"white\", font=(\"Helvetica\", 32, \"bold\"))\n",
    "        self.arc = self.canvas.create_arc(20, 20, 280, 280, start=90, extent=0, width=15, outline=\"#00ffcc\", style=\"arc\")\n",
    "\n",
    "        self.start_btn = ttk.Button(self.root, text=\"Start\", command=self.start_timer)\n",
    "        self.start_btn.pack(pady=10)\n",
    "\n",
    "        self.stop_btn = ttk.Button(self.root, text=\"Stop\", command=self.stop_timer, state=\"disabled\")\n",
    "        self.stop_btn.pack()\n",
    "\n",
    "        # Custom styling\n",
    "        style = ttk.Style()\n",
    "        style.configure(\"TButton\", font=(\"Helvetica\", 12), padding=6)\n",
    "\n",
    "    def update_canvas(self):\n",
    "        mins = self.time_left // 60\n",
    "        secs = self.time_left % 60\n",
    "        time_display = f\"{mins:02}:{secs:02}\"\n",
    "        self.canvas.itemconfig(self.timer_text, text=time_display)\n",
    "\n",
    "        if self.total_time:\n",
    "            progress = (self.total_time - self.time_left) / self.total_time\n",
    "            extent = -progress * 360\n",
    "            self.canvas.itemconfig(self.arc, extent=extent)\n",
    "\n",
    "    def countdown(self):\n",
    "        if self.running and self.time_left > 0:\n",
    "            self.time_left -= 1\n",
    "            self.update_canvas()\n",
    "            self.root.after(1000, self.countdown)\n",
    "        elif self.time_left == 0 and self.running:\n",
    "            self.update_canvas()\n",
    "            notification.notify(\n",
    "                title=\"⏰ Time's up!\",\n",
    "                message=\"Take a break or get back to work!\",\n",
    "                timeout=10\n",
    "            )\n",
    "            self.running = False\n",
    "            self.stop_btn.config(state=\"disabled\")\n",
    "            self.start_btn.config(state=\"normal\")\n",
    "\n",
    "    def start_timer(self):\n",
    "        mins = self.minutes.get()\n",
    "        if mins > 0:\n",
    "            self.total_time = mins * 60\n",
    "            self.time_left = self.total_time\n",
    "            self.running = True\n",
    "            self.start_btn.config(state=\"disabled\")\n",
    "            self.stop_btn.config(state=\"normal\")\n",
    "            self.countdown()\n",
    "\n",
    "    def stop_timer(self):\n",
    "        self.running = False\n",
    "        self.start_btn.config(state=\"normal\")\n",
    "        self.stop_btn.config(state=\"disabled\")\n",
    "\n",
    "if __name__ == \"__main__\":\n",
    "    root = tk.Tk()\n",
    "    app = CircularTimer(root)\n",
    "    root.mainloop()\n"
   ]
  },
  {
   "cell_type": "code",
   "execution_count": null,
   "id": "013440a8-cbfc-4c31-b512-4799510a9860",
   "metadata": {},
   "outputs": [],
   "source": []
  }
 ],
 "metadata": {
  "kernelspec": {
   "display_name": "Python [conda env:base] *",
   "language": "python",
   "name": "conda-base-py"
  },
  "language_info": {
   "codemirror_mode": {
    "name": "ipython",
    "version": 3
   },
   "file_extension": ".py",
   "mimetype": "text/x-python",
   "name": "python",
   "nbconvert_exporter": "python",
   "pygments_lexer": "ipython3",
   "version": "3.12.7"
  }
 },
 "nbformat": 4,
 "nbformat_minor": 5
}
